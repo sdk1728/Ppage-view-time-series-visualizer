{
 "cells": [
  {
   "cell_type": "code",
   "execution_count": 1,
   "id": "62a5cb22",
   "metadata": {},
   "outputs": [],
   "source": [
    "import pandas as pd\n",
    "import matplotlib.pyplot as plt\n",
    "import seaborn as sns\n",
    "import numpy as np"
   ]
  },
  {
   "cell_type": "code",
   "execution_count": 5,
   "id": "8c162983",
   "metadata": {},
   "outputs": [],
   "source": [
    "#Set the index to the date column.\n",
    "df1=pd.read_csv('fcc-forum-pageviews.csv',index_col='date',parse_dates=True)"
   ]
  },
  {
   "cell_type": "code",
   "execution_count": 6,
   "id": "041132dc",
   "metadata": {},
   "outputs": [
    {
     "data": {
      "text/html": [
       "<div>\n",
       "<style scoped>\n",
       "    .dataframe tbody tr th:only-of-type {\n",
       "        vertical-align: middle;\n",
       "    }\n",
       "\n",
       "    .dataframe tbody tr th {\n",
       "        vertical-align: top;\n",
       "    }\n",
       "\n",
       "    .dataframe thead th {\n",
       "        text-align: right;\n",
       "    }\n",
       "</style>\n",
       "<table border=\"1\" class=\"dataframe\">\n",
       "  <thead>\n",
       "    <tr style=\"text-align: right;\">\n",
       "      <th></th>\n",
       "      <th>value</th>\n",
       "    </tr>\n",
       "    <tr>\n",
       "      <th>date</th>\n",
       "      <th></th>\n",
       "    </tr>\n",
       "  </thead>\n",
       "  <tbody>\n",
       "    <tr>\n",
       "      <th>2016-05-09</th>\n",
       "      <td>1201</td>\n",
       "    </tr>\n",
       "    <tr>\n",
       "      <th>2016-05-10</th>\n",
       "      <td>2329</td>\n",
       "    </tr>\n",
       "    <tr>\n",
       "      <th>2016-05-11</th>\n",
       "      <td>1716</td>\n",
       "    </tr>\n",
       "    <tr>\n",
       "      <th>2016-05-12</th>\n",
       "      <td>10539</td>\n",
       "    </tr>\n",
       "    <tr>\n",
       "      <th>2016-05-13</th>\n",
       "      <td>6933</td>\n",
       "    </tr>\n",
       "    <tr>\n",
       "      <th>...</th>\n",
       "      <td>...</td>\n",
       "    </tr>\n",
       "    <tr>\n",
       "      <th>2019-11-29</th>\n",
       "      <td>171584</td>\n",
       "    </tr>\n",
       "    <tr>\n",
       "      <th>2019-11-30</th>\n",
       "      <td>141161</td>\n",
       "    </tr>\n",
       "    <tr>\n",
       "      <th>2019-12-01</th>\n",
       "      <td>142918</td>\n",
       "    </tr>\n",
       "    <tr>\n",
       "      <th>2019-12-02</th>\n",
       "      <td>220144</td>\n",
       "    </tr>\n",
       "    <tr>\n",
       "      <th>2019-12-03</th>\n",
       "      <td>158549</td>\n",
       "    </tr>\n",
       "  </tbody>\n",
       "</table>\n",
       "<p>1304 rows × 1 columns</p>\n",
       "</div>"
      ],
      "text/plain": [
       "             value\n",
       "date              \n",
       "2016-05-09    1201\n",
       "2016-05-10    2329\n",
       "2016-05-11    1716\n",
       "2016-05-12   10539\n",
       "2016-05-13    6933\n",
       "...            ...\n",
       "2019-11-29  171584\n",
       "2019-11-30  141161\n",
       "2019-12-01  142918\n",
       "2019-12-02  220144\n",
       "2019-12-03  158549\n",
       "\n",
       "[1304 rows x 1 columns]"
      ]
     },
     "execution_count": 6,
     "metadata": {},
     "output_type": "execute_result"
    }
   ],
   "source": [
    "df1"
   ]
  },
  {
   "cell_type": "code",
   "execution_count": 7,
   "id": "e4ed5bea",
   "metadata": {},
   "outputs": [],
   "source": [
    "#Clean the data by filtering out days when the page views were in the top \n",
    "# 2.5% of the dataset or bottom 2.5% of the dataset."
   ]
  },
  {
   "cell_type": "code",
   "execution_count": 15,
   "id": "6766dbbe",
   "metadata": {},
   "outputs": [
    {
     "data": {
      "text/html": [
       "<div>\n",
       "<style scoped>\n",
       "    .dataframe tbody tr th:only-of-type {\n",
       "        vertical-align: middle;\n",
       "    }\n",
       "\n",
       "    .dataframe tbody tr th {\n",
       "        vertical-align: top;\n",
       "    }\n",
       "\n",
       "    .dataframe thead th {\n",
       "        text-align: right;\n",
       "    }\n",
       "</style>\n",
       "<table border=\"1\" class=\"dataframe\">\n",
       "  <thead>\n",
       "    <tr style=\"text-align: right;\">\n",
       "      <th></th>\n",
       "      <th>value</th>\n",
       "    </tr>\n",
       "    <tr>\n",
       "      <th>date</th>\n",
       "      <th></th>\n",
       "    </tr>\n",
       "  </thead>\n",
       "  <tbody>\n",
       "    <tr>\n",
       "      <th>2016-05-19</th>\n",
       "      <td>19736</td>\n",
       "    </tr>\n",
       "    <tr>\n",
       "      <th>2016-05-26</th>\n",
       "      <td>18060</td>\n",
       "    </tr>\n",
       "    <tr>\n",
       "      <th>2016-05-27</th>\n",
       "      <td>19997</td>\n",
       "    </tr>\n",
       "    <tr>\n",
       "      <th>2016-05-28</th>\n",
       "      <td>19044</td>\n",
       "    </tr>\n",
       "    <tr>\n",
       "      <th>2016-05-29</th>\n",
       "      <td>20325</td>\n",
       "    </tr>\n",
       "  </tbody>\n",
       "</table>\n",
       "</div>"
      ],
      "text/plain": [
       "            value\n",
       "date             \n",
       "2016-05-19  19736\n",
       "2016-05-26  18060\n",
       "2016-05-27  19997\n",
       "2016-05-28  19044\n",
       "2016-05-29  20325"
      ]
     },
     "execution_count": 15,
     "metadata": {},
     "output_type": "execute_result"
    }
   ],
   "source": [
    "df2=df1.loc[(df1.value>=df1.value.quantile(0.025)) & (df1.value<=df1.value.quantile(0.975))]\n",
    "df2.head()"
   ]
  },
  {
   "cell_type": "code",
   "execution_count": 9,
   "id": "099936b2",
   "metadata": {},
   "outputs": [
    {
     "data": {
      "text/plain": [
       "17876.4"
      ]
     },
     "execution_count": 9,
     "metadata": {},
     "output_type": "execute_result"
    }
   ],
   "source": [
    "df1.value.quantile(0.025)"
   ]
  },
  {
   "cell_type": "code",
   "execution_count": 10,
   "id": "d6f58a57",
   "metadata": {},
   "outputs": [
    {
     "data": {
      "text/plain": [
       "177613.075"
      ]
     },
     "execution_count": 10,
     "metadata": {},
     "output_type": "execute_result"
    }
   ],
   "source": [
    "df1.value.quantile(0.975)"
   ]
  },
  {
   "cell_type": "code",
   "execution_count": 20,
   "id": "80c11b1a",
   "metadata": {},
   "outputs": [
    {
     "data": {
      "text/plain": [
       "Text(0.5, 1.0, 'Daily freeCodeCamp Forum Page Views 5/2016-12/2019')"
      ]
     },
     "execution_count": 20,
     "metadata": {},
     "output_type": "execute_result"
    },
    {
     "data": {
      "image/png": "[encoded data removed]",
      "text/plain": [
       "<Figure size 864x288 with 1 Axes>"
      ]
     },
     "metadata": {
      "needs_background": "light"
     },
     "output_type": "display_data"
    }
   ],
   "source": [
    "fig,ax=plt.subplots(figsize=(12,4))\n",
    "ax=sns.lineplot(data=df2,x='date',y='value')\n",
    "plt.xlabel('Date')\n",
    "plt.ylabel('Page views')\n",
    "plt.title('Daily freeCodeCamp Forum Page Views 5/2016-12/2019')"
   ]
  },
  {
   "cell_type": "code",
   "execution_count": 21,
   "id": "4e583f24",
   "metadata": {},
   "outputs": [],
   "source": [
    "#It should show average daily page views for each month grouped by year."
   ]
  },
  {
   "cell_type": "code",
   "execution_count": 36,
   "id": "afd11052",
   "metadata": {},
   "outputs": [],
   "source": [
    "# modify data based on months\n",
    "df_bar=df2.copy()\n",
    "df_bar['Month']=pd.DatetimeIndex(df_bar.index).month\n",
    "df_bar['Year']=pd.DatetimeIndex(df_bar.index).year\n",
    "df_bar=df_bar.groupby(['Year','Month'])['value'].mean()"
   ]
  },
  {
   "cell_type": "code",
   "execution_count": 47,
   "id": "00a03453",
   "metadata": {},
   "outputs": [
    {
     "data": {
      "text/html": [
       "<div>\n",
       "<style scoped>\n",
       "    .dataframe tbody tr th:only-of-type {\n",
       "        vertical-align: middle;\n",
       "    }\n",
       "\n",
       "    .dataframe tbody tr th {\n",
       "        vertical-align: top;\n",
       "    }\n",
       "\n",
       "    .dataframe thead th {\n",
       "        text-align: right;\n",
       "    }\n",
       "</style>\n",
       "<table border=\"1\" class=\"dataframe\">\n",
       "  <thead>\n",
       "    <tr style=\"text-align: right;\">\n",
       "      <th></th>\n",
       "      <th>JAN</th>\n",
       "      <th>FEB</th>\n",
       "      <th>MAR</th>\n",
       "      <th>APR</th>\n",
       "      <th>MAY</th>\n",
       "      <th>JUN</th>\n",
       "      <th>JUL</th>\n",
       "      <th>AUG</th>\n",
       "      <th>SEP</th>\n",
       "      <th>OCT</th>\n",
       "      <th>NOV</th>\n",
       "      <th>DEC</th>\n",
       "    </tr>\n",
       "    <tr>\n",
       "      <th>Year</th>\n",
       "      <th></th>\n",
       "      <th></th>\n",
       "      <th></th>\n",
       "      <th></th>\n",
       "      <th></th>\n",
       "      <th></th>\n",
       "      <th></th>\n",
       "      <th></th>\n",
       "      <th></th>\n",
       "      <th></th>\n",
       "      <th></th>\n",
       "      <th></th>\n",
       "    </tr>\n",
       "  </thead>\n",
       "  <tbody>\n",
       "    <tr>\n",
       "      <th>2016</th>\n",
       "      <td>NaN</td>\n",
       "      <td>NaN</td>\n",
       "      <td>NaN</td>\n",
       "      <td>NaN</td>\n",
       "      <td>19432.400000</td>\n",
       "      <td>21875.105263</td>\n",
       "      <td>24109.678571</td>\n",
       "      <td>31049.193548</td>\n",
       "      <td>41476.866667</td>\n",
       "      <td>27398.322581</td>\n",
       "      <td>40448.633333</td>\n",
       "      <td>27832.419355</td>\n",
       "    </tr>\n",
       "    <tr>\n",
       "      <th>2017</th>\n",
       "      <td>32785.161290</td>\n",
       "      <td>31113.071429</td>\n",
       "      <td>29369.096774</td>\n",
       "      <td>30878.733333</td>\n",
       "      <td>34244.290323</td>\n",
       "      <td>43577.500000</td>\n",
       "      <td>65806.838710</td>\n",
       "      <td>47712.451613</td>\n",
       "      <td>47376.800000</td>\n",
       "      <td>47438.709677</td>\n",
       "      <td>57701.566667</td>\n",
       "      <td>48420.580645</td>\n",
       "    </tr>\n",
       "    <tr>\n",
       "      <th>2018</th>\n",
       "      <td>58580.096774</td>\n",
       "      <td>65679.000000</td>\n",
       "      <td>62693.774194</td>\n",
       "      <td>62350.833333</td>\n",
       "      <td>56562.870968</td>\n",
       "      <td>70117.000000</td>\n",
       "      <td>63591.064516</td>\n",
       "      <td>62831.612903</td>\n",
       "      <td>65941.733333</td>\n",
       "      <td>111378.142857</td>\n",
       "      <td>78688.333333</td>\n",
       "      <td>80047.483871</td>\n",
       "    </tr>\n",
       "    <tr>\n",
       "      <th>2019</th>\n",
       "      <td>102056.516129</td>\n",
       "      <td>105968.357143</td>\n",
       "      <td>91214.483871</td>\n",
       "      <td>89368.433333</td>\n",
       "      <td>91439.903226</td>\n",
       "      <td>90435.642857</td>\n",
       "      <td>97236.566667</td>\n",
       "      <td>102717.310345</td>\n",
       "      <td>97268.833333</td>\n",
       "      <td>122802.272727</td>\n",
       "      <td>143166.428571</td>\n",
       "      <td>150733.500000</td>\n",
       "    </tr>\n",
       "  </tbody>\n",
       "</table>\n",
       "</div>"
      ],
      "text/plain": [
       "                JAN            FEB           MAR           APR           MAY  \\\n",
       "Year                                                                           \n",
       "2016            NaN            NaN           NaN           NaN  19432.400000   \n",
       "2017   32785.161290   31113.071429  29369.096774  30878.733333  34244.290323   \n",
       "2018   58580.096774   65679.000000  62693.774194  62350.833333  56562.870968   \n",
       "2019  102056.516129  105968.357143  91214.483871  89368.433333  91439.903226   \n",
       "\n",
       "               JUN           JUL            AUG           SEP            OCT  \\\n",
       "Year                                                                           \n",
       "2016  21875.105263  24109.678571   31049.193548  41476.866667   27398.322581   \n",
       "2017  43577.500000  65806.838710   47712.451613  47376.800000   47438.709677   \n",
       "2018  70117.000000  63591.064516   62831.612903  65941.733333  111378.142857   \n",
       "2019  90435.642857  97236.566667  102717.310345  97268.833333  122802.272727   \n",
       "\n",
       "                NOV            DEC  \n",
       "Year                                \n",
       "2016   40448.633333   27832.419355  \n",
       "2017   57701.566667   48420.580645  \n",
       "2018   78688.333333   80047.483871  \n",
       "2019  143166.428571  150733.500000  "
      ]
     },
     "execution_count": 47,
     "metadata": {},
     "output_type": "execute_result"
    }
   ],
   "source": [
    "# values grouped by year\n",
    "df_bar\n",
    "df_bar=df_bar.unstack()\n",
    "df_bar.columns=['JAN','FEB','MAR','APR','MAY','JUN','JUL','AUG','SEP','OCT','NOV','DEC']\n",
    "df_bar"
   ]
  },
  {
   "cell_type": "code",
   "execution_count": 54,
   "id": "dfdacfe7",
   "metadata": {},
   "outputs": [
    {
     "data": {
      "text/plain": [
       "<matplotlib.legend.Legend at 0x19ebaa564c0>"
      ]
     },
     "execution_count": 54,
     "metadata": {},
     "output_type": "execute_result"
    },
    {
     "data": {
      "image/png": "[encoded data removed]",
      "text/plain": [
       "<Figure size 1080x576 with 1 Axes>"
      ]
     },
     "metadata": {
      "needs_background": "light"
     },
     "output_type": "display_data"
    }
   ],
   "source": [
    "fig=df_bar.plot(kind='bar',figsize=(15,8)).figure\n",
    "plt.xlabel('Years',fontsize=14)\n",
    "plt.ylabel('Average Page Views',fontsize=14)\n",
    "plt.legend(title='Months',fontsize=14)"
   ]
  },
  {
   "cell_type": "code",
   "execution_count": 69,
   "id": "8146ddf0",
   "metadata": {},
   "outputs": [],
   "source": [
    "#def draw_box_plot():\n",
    "    # Prepare data for box plots (this part is done!)\n",
    "df_box = df2.copy()\n",
    "df_box.reset_index(inplace=True)\n",
    "df_box['year'] = [d.year for d in df_box.date]\n",
    "df_box['month'] = [d.strftime('%b') for d in df_box.date]"
   ]
  },
  {
   "cell_type": "code",
   "execution_count": 70,
   "id": "aa580c15",
   "metadata": {},
   "outputs": [
    {
     "data": {
      "text/html": [
       "<div>\n",
       "<style scoped>\n",
       "    .dataframe tbody tr th:only-of-type {\n",
       "        vertical-align: middle;\n",
       "    }\n",
       "\n",
       "    .dataframe tbody tr th {\n",
       "        vertical-align: top;\n",
       "    }\n",
       "\n",
       "    .dataframe thead th {\n",
       "        text-align: right;\n",
       "    }\n",
       "</style>\n",
       "<table border=\"1\" class=\"dataframe\">\n",
       "  <thead>\n",
       "    <tr style=\"text-align: right;\">\n",
       "      <th></th>\n",
       "      <th>date</th>\n",
       "      <th>value</th>\n",
       "      <th>year</th>\n",
       "      <th>month</th>\n",
       "    </tr>\n",
       "  </thead>\n",
       "  <tbody>\n",
       "    <tr>\n",
       "      <th>0</th>\n",
       "      <td>2016-05-19</td>\n",
       "      <td>19736</td>\n",
       "      <td>2016</td>\n",
       "      <td>May</td>\n",
       "    </tr>\n",
       "    <tr>\n",
       "      <th>1</th>\n",
       "      <td>2016-05-26</td>\n",
       "      <td>18060</td>\n",
       "      <td>2016</td>\n",
       "      <td>May</td>\n",
       "    </tr>\n",
       "    <tr>\n",
       "      <th>2</th>\n",
       "      <td>2016-05-27</td>\n",
       "      <td>19997</td>\n",
       "      <td>2016</td>\n",
       "      <td>May</td>\n",
       "    </tr>\n",
       "    <tr>\n",
       "      <th>3</th>\n",
       "      <td>2016-05-28</td>\n",
       "      <td>19044</td>\n",
       "      <td>2016</td>\n",
       "      <td>May</td>\n",
       "    </tr>\n",
       "    <tr>\n",
       "      <th>4</th>\n",
       "      <td>2016-05-29</td>\n",
       "      <td>20325</td>\n",
       "      <td>2016</td>\n",
       "      <td>May</td>\n",
       "    </tr>\n",
       "    <tr>\n",
       "      <th>...</th>\n",
       "      <td>...</td>\n",
       "      <td>...</td>\n",
       "      <td>...</td>\n",
       "      <td>...</td>\n",
       "    </tr>\n",
       "    <tr>\n",
       "      <th>1233</th>\n",
       "      <td>2019-11-24</td>\n",
       "      <td>138875</td>\n",
       "      <td>2019</td>\n",
       "      <td>Nov</td>\n",
       "    </tr>\n",
       "    <tr>\n",
       "      <th>1234</th>\n",
       "      <td>2019-11-29</td>\n",
       "      <td>171584</td>\n",
       "      <td>2019</td>\n",
       "      <td>Nov</td>\n",
       "    </tr>\n",
       "    <tr>\n",
       "      <th>1235</th>\n",
       "      <td>2019-11-30</td>\n",
       "      <td>141161</td>\n",
       "      <td>2019</td>\n",
       "      <td>Nov</td>\n",
       "    </tr>\n",
       "    <tr>\n",
       "      <th>1236</th>\n",
       "      <td>2019-12-01</td>\n",
       "      <td>142918</td>\n",
       "      <td>2019</td>\n",
       "      <td>Dec</td>\n",
       "    </tr>\n",
       "    <tr>\n",
       "      <th>1237</th>\n",
       "      <td>2019-12-03</td>\n",
       "      <td>158549</td>\n",
       "      <td>2019</td>\n",
       "      <td>Dec</td>\n",
       "    </tr>\n",
       "  </tbody>\n",
       "</table>\n",
       "<p>1238 rows × 4 columns</p>\n",
       "</div>"
      ],
      "text/plain": [
       "           date   value  year month\n",
       "0    2016-05-19   19736  2016   May\n",
       "1    2016-05-26   18060  2016   May\n",
       "2    2016-05-27   19997  2016   May\n",
       "3    2016-05-28   19044  2016   May\n",
       "4    2016-05-29   20325  2016   May\n",
       "...         ...     ...   ...   ...\n",
       "1233 2019-11-24  138875  2019   Nov\n",
       "1234 2019-11-29  171584  2019   Nov\n",
       "1235 2019-11-30  141161  2019   Nov\n",
       "1236 2019-12-01  142918  2019   Dec\n",
       "1237 2019-12-03  158549  2019   Dec\n",
       "\n",
       "[1238 rows x 4 columns]"
      ]
     },
     "execution_count": 70,
     "metadata": {},
     "output_type": "execute_result"
    }
   ],
   "source": [
    "df_box"
   ]
  },
  {
   "cell_type": "code",
   "execution_count": 75,
   "id": "fc688fbb",
   "metadata": {},
   "outputs": [
    {
     "data": {
      "text/plain": [
       "Text(0, 0.5, 'Page views')"
      ]
     },
     "execution_count": 75,
     "metadata": {},
     "output_type": "execute_result"
    },
    {
     "data": {
      "image/png": "[encoded data removed]",
      "text/plain": [
       "<Figure size 1152x576 with 2 Axes>"
      ]
     },
     "metadata": {
      "needs_background": "light"
     },
     "output_type": "display_data"
    }
   ],
   "source": [
    "# draw box plot\n",
    "fig,(ax1,ax2)=plt.subplots(1,2,figsize=(16,8))\n",
    "\n",
    "sns.boxplot(ax=ax1,x='year',y='value',data=df_box)\n",
    "ax1.set_title('Year-wise Box Plot (Trend)')\n",
    "ax1.set_xlabel('Year')\n",
    "ax1.set_ylabel('Page views')\n",
    "\n",
    "sns.boxplot(ax=ax2,x='month',y='value',data=df_box)\n",
    "ax2.set_title('Month-wise Box Plot (Seasonality)')\n",
    "ax2.set_xlabel('Month')\n",
    "ax2.set_ylabel('Page views')"
   ]
  },
  {
   "cell_type": "code",
   "execution_count": null,
   "id": "c40a4867",
   "metadata": {},
   "outputs": [],
   "source": []
  }
 ],
 "metadata": {
  "kernelspec": {
   "display_name": "Python 3 (ipykernel)",
   "language": "python",
   "name": "python3"
  },
  "language_info": {
   "codemirror_mode": {
    "name": "ipython",
    "version": 3
   },
   "file_extension": ".py",
   "mimetype": "text/x-python",
   "name": "python",
   "nbconvert_exporter": "python",
   "pygments_lexer": "ipython3",
   "version": "3.9.7"
  }
 },
 "nbformat": 4,
 "nbformat_minor": 5
}
